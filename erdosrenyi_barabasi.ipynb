{
 "cells": [
  {
   "cell_type": "code",
   "execution_count": 1,
   "metadata": {
    "executionInfo": {
     "elapsed": 5785,
     "status": "ok",
     "timestamp": 1622202913456,
     "user": {
      "displayName": "Balázs Csegő Kolok",
      "photoUrl": "https://lh3.googleusercontent.com/a-/AOh14GizElBU6t4C1dp2-BqN6yH3njYpOSYmXC27d2_J=s64",
      "userId": "01455502549978942683"
     },
     "user_tz": -120
    },
    "id": "aKgoaO1NfRmn"
   },
   "outputs": [
    {
     "name": "stderr",
     "output_type": "stream",
     "text": [
      "/u/student/bsc/adug96/Epidemicmodel/epidemic_strat_on_hypergraphs/classes/epidemicmodel.py:801: SyntaxWarning: \"is not\" with a literal. Did you mean \"!=\"?\n",
      "  if node.attr_list['state'] is not 's':\n",
      "/u/student/bsc/adug96/Epidemicmodel/epidemic_strat_on_hypergraphs/classes/epidemicmodel.py:807: SyntaxWarning: \"is not\" with a literal. Did you mean \"!=\"?\n",
      "  if node.attr_list['state'] is not 'e':\n",
      "/u/student/bsc/adug96/Epidemicmodel/epidemic_strat_on_hypergraphs/classes/epidemicmodel.py:813: SyntaxWarning: \"is not\" with a literal. Did you mean \"!=\"?\n",
      "  if node.attr_list['state'] is not 'e':\n"
     ]
    }
   ],
   "source": [
    "import json\n",
    "from classes.epidemicmodel import EpidemicModel\n",
    "from utils.epidemicplotter import av_numbers_by_keyparameter\n",
    "\n",
    "import random as rnd\n",
    "import numpy as np\n",
    "import matplotlib.pyplot as plt\n",
    "import matplotlib.lines as mlines\n",
    "import itertools\n",
    "from itertools import combinations \n",
    "import networkx as nx\n",
    "import bisect"
   ]
  },
  {
   "cell_type": "code",
   "execution_count": 2,
   "metadata": {
    "executionInfo": {
     "elapsed": 343,
     "status": "ok",
     "timestamp": 1622202918062,
     "user": {
      "displayName": "Balázs Csegő Kolok",
      "photoUrl": "https://lh3.googleusercontent.com/a-/AOh14GizElBU6t4C1dp2-BqN6yH3njYpOSYmXC27d2_J=s64",
      "userId": "01455502549978942683"
     },
     "user_tz": -120
    },
    "id": "yCL0PJsnfRmt"
   },
   "outputs": [],
   "source": [
    "\"------Random host generator for epidemic model----\"\n",
    "def random_hosts(number_of_hosts, infectious_number):\n",
    "    sum_of_infectious = 0\n",
    "    _list=[]    \n",
    "    for i in range(number_of_hosts):\n",
    "        _attr_list = {}\n",
    "        _attr_list['id'] = int(str(10)+str(i))\n",
    "        _edgelist = []\n",
    "        _attr_list['is tested'] = False\n",
    "        _attr_list['quarantine time'] = 0\n",
    "        _attr_list['state'] = 's'\n",
    "        _attr_list['fresh quarantine'] = False\n",
    "        _attr_list['vaccination period'] = None\n",
    "        _list.append([_edgelist,_attr_list])\n",
    "    if 0 <= infectious_number and infectious_number < 1:\n",
    "        s = number_of_hosts * rate_of_infectious\n",
    "    elif 1 <= infectious_number:\n",
    "        s = infectious_number\n",
    "    while sum_of_infectious < s:\n",
    "        random_host = rnd.choice(_list)\n",
    "        random_host[1]['state'] = 'i'\n",
    "        sum_of_infectious += 1\n",
    "    return _list"
   ]
  },
  {
   "cell_type": "code",
   "execution_count": 3,
   "metadata": {
    "id": "Vy8qOncrtY44"
   },
   "outputs": [],
   "source": [
    "a=5\n",
    "c=1\n",
    "def power_law(x):\n",
    "  return c*(x**(-a))"
   ]
  },
  {
   "cell_type": "code",
   "execution_count": 4,
   "metadata": {
    "id": "77Nj8mbKqQ1x"
   },
   "outputs": [],
   "source": [
    "def random_sample_distribution(function,size):\n",
    "    x=range(1,size+1)\n",
    "    vals = np.array([function(i) for i in x])\n",
    "    s = sum(vals)\n",
    "    probs = [0]+[sum(vals[:i])/s for i in x]\n",
    "    sample=[]\n",
    "    for i in x:\n",
    "        r = rnd.random()\n",
    "        val = bisect.bisect(probs,r)\n",
    "        sample.append(val)\n",
    "    return sample"
   ]
  },
  {
   "cell_type": "code",
   "execution_count": null,
   "metadata": {
    "id": "4x80J35IfulN"
   },
   "outputs": [],
   "source": [
    "def multiplot_to_compare(rates_hg,rates_g,label_1,label_2,filename=None):\n",
    "  plt.figure(figsize=(10,7))\n",
    "  max_rates_hg = []\n",
    "  min_rates_hg = []\n",
    "  av_rates_hg = []\n",
    "  max_rates_g = []\n",
    "  min_rates_g = []\n",
    "  av_rates_g = []\n",
    "  for i in range(len(rates_g[0][0])):\n",
    "    max_hg = 0\n",
    "    min_hg = 1\n",
    "    max_g = 0\n",
    "    min_g = 1\n",
    "    shg = 0\n",
    "    sg = 0\n",
    "    for j in range(len(rates_g)):\n",
    "      if rates_hg[j][0][i] > max_hg:\n",
    "        max_hg = rates_hg[j][0][i]\n",
    "      if rates_hg[j][0][i] < min_hg:\n",
    "        min_hg = rates_hg[j][0][i]\n",
    "      shg = shg + rates_hg[j][0][i]\n",
    "      if rates_g[j][0][i] > max_g:\n",
    "        max_g = rates_g[j][0][i]\n",
    "      if rates_g[j][0][i] < min_g:\n",
    "        min_g = rates_g[j][0][i]\n",
    "      sg = sg + rates_g[j][0][i]\n",
    "    max_rates_hg.append(max_hg)\n",
    "    min_rates_hg.append(min_hg)\n",
    "    av_rates_hg.append(shg/len(rates_g))\n",
    "    max_rates_g.append(max_g)\n",
    "    min_rates_g.append(min_g)\n",
    "    av_rates_g.append(sg/len(rates_g))\n",
    "  \n",
    "  x = range(len(rates_g[0][0]))\n",
    "  plt.fill_between(x,  max_rates_hg,min_rates_hg, color='C1', alpha=0.5)\n",
    "  plt.fill_between(x,  max_rates_g,min_rates_g, color='C0', alpha=0.5)\n",
    "  plt.plot(x,av_rates_hg,'r')\n",
    "  plt.plot(x,av_rates_g,'b')\n",
    "  hg_line = mlines.Line2D([], [], color='r', label=label_1)\n",
    "  g_line = mlines.Line2D([], [], color='b', label=label_2) \n",
    "  plt.ylabel('rate of infection', fontsize=25)\n",
    "  plt.xlabel('timestep', fontsize=25)\n",
    "  plt.legend(handles=[hg_line, g_line], fontsize='xx-large', loc='upper right')\n",
    "  if filename != None:\n",
    "        plt.savefig(filename, format='png')\n",
    "  plt.show()"
   ]
  },
  {
   "cell_type": "code",
   "execution_count": 9,
   "metadata": {
    "id": "P9cn-5A-kUI1"
   },
   "outputs": [],
   "source": [
    "def spreading_function_lin(size, number_of_infectious):\n",
    "    return number_of_infectious/size"
   ]
  },
  {
   "cell_type": "markdown",
   "metadata": {
    "id": "qVjig6a0fRmu"
   },
   "source": [
    "# Compare of erdos renyi and barabasi hypergraph model"
   ]
  },
  {
   "cell_type": "code",
   "execution_count": 10,
   "metadata": {},
   "outputs": [],
   "source": [
    "def plotting_rates(rates, filename=None):    \n",
    "    plt.figure(figsize=(10,7))\n",
    "    plt.plot(rates['infectious'], 'r')\n",
    "    plt.plot(rates['s'], 'b')\n",
    "    plt.plot(rates['r'], 'g')\n",
    "    plt.plot(rates['d'], 'k')\n",
    "    plt.ylabel('rates', fontsize=25)\n",
    "    plt.xlabel('timestep', fontsize=25)\n",
    "    \n",
    "    red_line = mlines.Line2D([], [], color='r', label='infectious')\n",
    "    blue_line = mlines.Line2D([], [], color='b', label='susceptible')\n",
    "    green_line = mlines.Line2D([], [], color='g', label='recovered')\n",
    "    black_line = mlines.Line2D([], [], color='k', label='dead')    \n",
    "    plt.legend(handles=[blue_line, red_line, green_line, black_line], fontsize='xx-large', loc='upper right')\n",
    "    if filename != None:\n",
    "        plt.savefig(filename, format='png')\n",
    "    plt.show()"
   ]
  },
  {
   "cell_type": "code",
   "execution_count": 11,
   "metadata": {
    "id": "A2dtChepfRmv"
   },
   "outputs": [],
   "source": [
    "_list=random_hosts(1000,1)\n",
    "states = ['s','e','i','r','d']\n",
    "state_transition_probs = {}\n",
    "state_transition_probs['s'] = {'s': 1}\n",
    "state_transition_probs['e'] = {'i': 0.2}\n",
    "state_transition_probs['i'] = {'r': 0.09,'d' : 0.01}\n",
    "state_transition_probs['r']= {'r' : 1}\n",
    "state_transition_probs['d'] = {'d' : 1}\n",
    "model='realistic'\n",
    "epidemicmodel = EpidemicModel(_list, state_transition_probs,\n",
    "                              states=states,\n",
    "                              spreading_function=spreading_function_lin,\n",
    "                              model='realistic')"
   ]
  },
  {
   "cell_type": "code",
   "execution_count": 12,
   "metadata": {
    "id": "ytN-thXSfRmv"
   },
   "outputs": [],
   "source": [
    "hyperedge_types={}\n",
    "hyperedge_types['r'] = {'spreading rate' : 0.5, 'size': 5, 'number of edges': 995}\n",
    "epidemicmodel.generate_Erdos_Renyi_hg(hyperedge_types['r'], 'r')"
   ]
  },
  {
   "cell_type": "code",
   "execution_count": 13,
   "metadata": {
    "colab": {
     "base_uri": "https://localhost:8080/",
     "height": 283
    },
    "executionInfo": {
     "elapsed": 1530,
     "status": "ok",
     "timestamp": 1621023145326,
     "user": {
      "displayName": "Balázs Csegő Kolok",
      "photoUrl": "https://lh3.googleusercontent.com/a-/AOh14GizElBU6t4C1dp2-BqN6yH3njYpOSYmXC27d2_J=s64",
      "userId": "01455502549978942683"
     },
     "user_tz": -120
    },
    "id": "fdq0N4lKlphP",
    "outputId": "3ddd9f7e-beb3-48c1-a7fc-f325dc24b7f6"
   },
   "outputs": [
    {
     "data": {
      "text/plain": [
       "<BarContainer object of 15 artists>"
      ]
     },
     "execution_count": 13,
     "metadata": {},
     "output_type": "execute_result"
    },
    {
     "data": {
      "image/png": "[encoded data removed]",
      "text/plain": [
       "<Figure size 576x576 with 1 Axes>"
      ]
     },
     "metadata": {
      "needs_background": "light"
     },
     "output_type": "display_data"
    }
   ],
   "source": [
    "distr = epidemicmodel.hypergraph.degree_distribution()\n",
    "plt.bar(range(len(distr)),distr)"
   ]
  },
  {
   "cell_type": "code",
   "execution_count": 14,
   "metadata": {
    "colab": {
     "base_uri": "https://localhost:8080/"
    },
    "executionInfo": {
     "elapsed": 1520,
     "status": "ok",
     "timestamp": 1621023145326,
     "user": {
      "displayName": "Balázs Csegő Kolok",
      "photoUrl": "https://lh3.googleusercontent.com/a-/AOh14GizElBU6t4C1dp2-BqN6yH3njYpOSYmXC27d2_J=s64",
      "userId": "01455502549978942683"
     },
     "user_tz": -120
    },
    "id": "rAUC0TffW4Ga",
    "outputId": "bdd6a4f7-8349-4633-eb1e-ef7dc15a692b"
   },
   "outputs": [
    {
     "data": {
      "text/plain": [
       "{'s': {'s': 1},\n",
       " 'e': {'i': 0.2, 'e': 0.8},\n",
       " 'i': {'r': 0.09, 'd': 0.01, 'i': 0.9},\n",
       " 'r': {'r': 1},\n",
       " 'd': {'d': 1}}"
      ]
     },
     "execution_count": 14,
     "metadata": {},
     "output_type": "execute_result"
    }
   ],
   "source": [
    "epidemicmodel.state_transition_probs"
   ]
  },
  {
   "cell_type": "code",
   "execution_count": 15,
   "metadata": {
    "id": "xzvxbR-2fRmv",
    "scrolled": false
   },
   "outputs": [],
   "source": [
    "rateser, daily_inf,daily_pos, find = epidemicmodel.run(200)"
   ]
  },
  {
   "cell_type": "code",
   "execution_count": 16,
   "metadata": {
    "colab": {
     "base_uri": "https://localhost:8080/",
     "height": 456
    },
    "executionInfo": {
     "elapsed": 25721,
     "status": "ok",
     "timestamp": 1621021230244,
     "user": {
      "displayName": "Balázs Csegő Kolok",
      "photoUrl": "https://lh3.googleusercontent.com/a-/AOh14GizElBU6t4C1dp2-BqN6yH3njYpOSYmXC27d2_J=s64",
      "userId": "01455502549978942683"
     },
     "user_tz": -120
    },
    "id": "x-83A8GjfRmw",
    "outputId": "f6653326-3f32-4ebb-94c7-b9a5e88e6373",
    "scrolled": false
   },
   "outputs": [
    {
     "data": {
      "image/png": "[encoded data removed]",
      "text/plain": [
       "<Figure size 720x504 with 1 Axes>"
      ]
     },
     "metadata": {
      "needs_background": "light"
     },
     "output_type": "display_data"
    }
   ],
   "source": [
    "plotting_rates(rateser)"
   ]
  },
  {
   "cell_type": "code",
   "execution_count": 17,
   "metadata": {
    "colab": {
     "base_uri": "https://localhost:8080/"
    },
    "executionInfo": {
     "elapsed": 25710,
     "status": "ok",
     "timestamp": 1621021230244,
     "user": {
      "displayName": "Balázs Csegő Kolok",
      "photoUrl": "https://lh3.googleusercontent.com/a-/AOh14GizElBU6t4C1dp2-BqN6yH3njYpOSYmXC27d2_J=s64",
      "userId": "01455502549978942683"
     },
     "user_tz": -120
    },
    "id": "6o36RtZjfRmx",
    "outputId": "8b2880fb-8df9-4e27-9c42-324a5c587c80"
   },
   "outputs": [
    {
     "data": {
      "text/plain": [
       "0.898"
      ]
     },
     "execution_count": 17,
     "metadata": {},
     "output_type": "execute_result"
    }
   ],
   "source": [
    "epidemicmodel.get_state_rate('r')"
   ]
  },
  {
   "cell_type": "markdown",
   "metadata": {
    "id": "-bGlEzPFXEVD"
   },
   "source": [
    "## Distribution attachment model\n"
   ]
  },
  {
   "cell_type": "code",
   "execution_count": 18,
   "metadata": {
    "colab": {
     "base_uri": "https://localhost:8080/",
     "height": 303
    },
    "executionInfo": {
     "elapsed": 71278,
     "status": "error",
     "timestamp": 1621021275820,
     "user": {
      "displayName": "Balázs Csegő Kolok",
      "photoUrl": "https://lh3.googleusercontent.com/a-/AOh14GizElBU6t4C1dp2-BqN6yH3njYpOSYmXC27d2_J=s64",
      "userId": "01455502549978942683"
     },
     "user_tz": -120
    },
    "id": "gwaC5tNuX3Ie",
    "outputId": "42b2829b-ffbc-4b45-a28c-9fc85cc0d44a"
   },
   "outputs": [],
   "source": [
    "degree_distr=random_sample_distribution(power_law, 100000)"
   ]
  },
  {
   "cell_type": "code",
   "execution_count": 19,
   "metadata": {
    "id": "1Y41ORJIYN6t"
   },
   "outputs": [],
   "source": [
    "s = sum(degree_distr)\n",
    "weights = [sum(degree_distr[:i+1])/s for i in range(len(degree_distr))]"
   ]
  },
  {
   "cell_type": "code",
   "execution_count": 20,
   "metadata": {
    "id": "2KF9qnAVXPUO"
   },
   "outputs": [],
   "source": [
    "hyperedge_types = {}\n",
    "hyperedge_types['e'] = {'spreading rate' : 0.05, 'distribution': 'uniform','size' : 4, 'node weight':{'distribution':weights}, 'number of edges': 100000}"
   ]
  },
  {
   "cell_type": "code",
   "execution_count": 22,
   "metadata": {
    "id": "2hKn8l68Xbch"
   },
   "outputs": [],
   "source": [
    "_list = random_hosts(100000,10)\n",
    "epidemicmodel = EpidemicModel(_list, state_transition_probs,states=states, spreading_function=spreading_function_lin)\n",
    "epidemicmodel.node_weight_attachment_model(hyperedge_types['e'], 'e')"
   ]
  },
  {
   "cell_type": "code",
   "execution_count": 23,
   "metadata": {
    "id": "btitqC6zbXHb"
   },
   "outputs": [
    {
     "data": {
      "image/png": "[encoded data removed]",
      "text/plain": [
       "<Figure size 864x360 with 1 Axes>"
      ]
     },
     "metadata": {
      "needs_background": "light"
     },
     "output_type": "display_data"
    }
   ],
   "source": [
    "distr = epidemicmodel.hypergraph.degree_distribution()\n",
    "plt.figure(figsize=(12,5))\n",
    "plt.bar(range(len(distr)),distr)\n",
    "plt.show()"
   ]
  },
  {
   "cell_type": "code",
   "execution_count": 24,
   "metadata": {
    "id": "nhxOGjwwcGzD"
   },
   "outputs": [
    {
     "data": {
      "text/plain": [
       "100000"
      ]
     },
     "execution_count": 24,
     "metadata": {},
     "output_type": "execute_result"
    }
   ],
   "source": [
    "len(epidemicmodel.edgelist())"
   ]
  },
  {
   "cell_type": "code",
   "execution_count": null,
   "metadata": {
    "id": "vrX4cxetxeTq"
   },
   "outputs": [],
   "source": [
    "rates,d_i,d_p,finds= epidemicmodel.run()"
   ]
  },
  {
   "cell_type": "code",
   "execution_count": null,
   "metadata": {
    "id": "uFDVR0TGxslE"
   },
   "outputs": [],
   "source": [
    "plotting_rates(rates)"
   ]
  },
  {
   "cell_type": "markdown",
   "metadata": {
    "id": "7kN33mO1fRmy"
   },
   "source": [
    "## Peak height"
   ]
  },
  {
   "cell_type": "code",
   "execution_count": 6,
   "metadata": {
    "executionInfo": {
     "elapsed": 341,
     "status": "ok",
     "timestamp": 1622203002676,
     "user": {
      "displayName": "Balázs Csegő Kolok",
      "photoUrl": "https://lh3.googleusercontent.com/a-/AOh14GizElBU6t4C1dp2-BqN6yH3njYpOSYmXC27d2_J=s64",
      "userId": "01455502549978942683"
     },
     "user_tz": -120
    },
    "id": "vHmrdt8DrHCf"
   },
   "outputs": [],
   "source": [
    "states = ['s','e','i','r','d']\n",
    "state_transition_probs = {}\n",
    "state_transition_probs['s'] = {'s':1}\n",
    "state_transition_probs['e'] = {'i':0.2}\n",
    "state_transition_probs['i'] = {'r': 0.09,'d':0.01}\n",
    "state_transition_probs['r']= {'r':1}\n",
    "state_transition_probs['d'] = {'d': 1}\n",
    "\n",
    "hyperedge_types={}"
   ]
  },
  {
   "cell_type": "code",
   "execution_count": 9,
   "metadata": {
    "executionInfo": {
     "elapsed": 354,
     "status": "ok",
     "timestamp": 1622204402839,
     "user": {
      "displayName": "Balázs Csegő Kolok",
      "photoUrl": "https://lh3.googleusercontent.com/a-/AOh14GizElBU6t4C1dp2-BqN6yH3njYpOSYmXC27d2_J=s64",
      "userId": "01455502549978942683"
     },
     "user_tz": -120
    },
    "id": "Ts35RV41ZkMM"
   },
   "outputs": [],
   "source": [
    "all_in = {}\n",
    "all_in['av maxs']={'BA model':{},'ER model':{},'4-regular':{}}\n",
    "all_in['av maxind']={'BA model':{},'ER model':{},'4-regular':{}}\n",
    "all_in['av finals']={'BA model':{},'ER model':{},'4-regular':{}}\n",
    "all_in['av finds']={'BA model':{},'ER model':{},'4-regular':{}}\n"
   ]
  },
  {
   "cell_type": "code",
   "execution_count": null,
   "metadata": {
    "id": "h-dUuc-RUs-t"
   },
   "outputs": [],
   "source": [
    "with open(pathdir+'/data_4uni_structures_10000.json', 'r') as fp:\n",
    "    all_in = json.load(fp)"
   ]
  },
  {
   "cell_type": "code",
   "execution_count": 35,
   "metadata": {
    "colab": {
     "base_uri": "https://localhost:8080/"
    },
    "executionInfo": {
     "elapsed": 362,
     "status": "ok",
     "timestamp": 1622224078551,
     "user": {
      "displayName": "Balázs Csegő Kolok",
      "photoUrl": "https://lh3.googleusercontent.com/a-/AOh14GizElBU6t4C1dp2-BqN6yH3njYpOSYmXC27d2_J=s64",
      "userId": "01455502549978942683"
     },
     "user_tz": -120
    },
    "id": "zSU3donCMHcx",
    "outputId": "308807ab-276e-48c6-8cb0-11c37974ab9e"
   },
   "outputs": [
    {
     "data": {
      "text/plain": [
       "dict_keys(['0.0', '0.005', '0.01', '0.015', '0.02', '0.025', '0.03', '0.035', '0.04', '0.045'])"
      ]
     },
     "execution_count": 35,
     "metadata": {
      "tags": []
     },
     "output_type": "execute_result"
    }
   ],
   "source": [
    "all_in['av maxs']['BA model'].keys()"
   ]
  },
  {
   "cell_type": "code",
   "execution_count": null,
   "metadata": {
    "colab": {
     "base_uri": "https://localhost:8080/"
    },
    "id": "6XKqCWSOgxVj",
    "outputId": "44144a4a-c839-4f31-be50-76f081290062"
   },
   "outputs": [
    {
     "name": "stdout",
     "output_type": "stream",
     "text": [
      "0\n",
      "1\n"
     ]
    }
   ],
   "source": [
    "modes=['BA model','ER model','4-regular']\n",
    "loops = 50\n",
    "ind = 30\n",
    "size=10000\n",
    "z=2\n",
    "for j in range(z):\n",
    "  print(j)\n",
    "  w = (ind + j*5)/1000 \n",
    "  for i in modes:\n",
    "    all_in['av finals'][i][str(w)]=[]\n",
    "    all_in['av maxs'][i][str(w)]=[]\n",
    "    all_in['av maxind'][i][str(w)]=[]\n",
    "    all_in['av finds'][i][str(w)]=[]\n",
    "for l in range(loops):\n",
    "  for i in modes:\n",
    "    hyperedge_types['e'] = {'spreading rate' : 1, 'distribution': 'uniform','size' : 4, 'number of new edges': 1}\n",
    "    hyperedge_types['r'] = {'spreading rate' : 1, 'size': 4, 'number of edges': size}\n",
    "    hyperedge_types['u'] = {'spreading rate' : 1, 'distribution': 'uniform','size' : 4}\n",
    "    _list = random_hosts(size,10)\n",
    "    epidemicmodel = EpidemicModel(_list, state_transition_probs,\n",
    "                                  states=states,\n",
    "                                  model='basic') \n",
    "    if i=='BA model':\n",
    "      epidemicmodel.preferential_attachment_model_2(hyperedge_types['e'], 'e')\n",
    "    elif i=='ER model':\n",
    "      epidemicmodel.generate_Erdos_Renyi_hg(hyperedge_types['r'], 'r')\n",
    "    elif i=='4-regular':\n",
    "      for k in range(4): \n",
    "        epidemicmodel.generate_hyperedges(hyperedge_types['u'], 'u')\n",
    "    for j in range(z):\n",
    "      w = (ind + j*5)/1000\n",
    "      for edge in epidemicmodel.hypergraph.edges:\n",
    "        edge.attr_list['spreading rate'] = w\n",
    "      rates, d1,d2, find = epidemicmodel.run()\n",
    "      final_size = int((rates['r'][-1] + rates['d'][-1]- rates['i'][0])*size)\n",
    "      all_in['av finals'][i][str(w)].append(final_size)\n",
    "      all_in['av maxs'][i][str(w)].append(max(rates['infectious']))\n",
    "      all_in['av maxind'][i][str(w)].append(np.argmax(rates['infectious']))\n",
    "      all_in['av finds'][i][str(w)].append(find)\n",
    "      epidemicmodel.reset()"
   ]
  },
  {
   "cell_type": "code",
   "execution_count": 29,
   "metadata": {
    "executionInfo": {
     "elapsed": 406,
     "status": "ok",
     "timestamp": 1622213280832,
     "user": {
      "displayName": "Balázs Csegő Kolok",
      "photoUrl": "https://lh3.googleusercontent.com/a-/AOh14GizElBU6t4C1dp2-BqN6yH3njYpOSYmXC27d2_J=s64",
      "userId": "01455502549978942683"
     },
     "user_tz": -120
    },
    "id": "mYFz4Izrb8Yc"
   },
   "outputs": [],
   "source": [
    "all_in=dict(all_in)"
   ]
  },
  {
   "cell_type": "code",
   "execution_count": 30,
   "metadata": {
    "colab": {
     "base_uri": "https://localhost:8080/",
     "height": 319
    },
    "executionInfo": {
     "elapsed": 627,
     "status": "error",
     "timestamp": 1622213284924,
     "user": {
      "displayName": "Balázs Csegő Kolok",
      "photoUrl": "https://lh3.googleusercontent.com/a-/AOh14GizElBU6t4C1dp2-BqN6yH3njYpOSYmXC27d2_J=s64",
      "userId": "01455502549978942683"
     },
     "user_tz": -120
    },
    "id": "LccGPU8aQ7-t",
    "outputId": "a3f0f47c-dc5f-453b-daa6-d4bd9d203be6"
   },
   "outputs": [
    {
     "ename": "TypeError",
     "evalue": "ignored",
     "output_type": "error",
     "traceback": [
      "\u001b[0;31m---------------------------------------------------------------------------\u001b[0m",
      "\u001b[0;31mTypeError\u001b[0m                                 Traceback (most recent call last)",
      "\u001b[0;32m<ipython-input-30-1e66d49610d0>\u001b[0m in \u001b[0;36m<module>\u001b[0;34m()\u001b[0m\n\u001b[1;32m      1\u001b[0m \u001b[0;32mwith\u001b[0m \u001b[0mopen\u001b[0m\u001b[0;34m(\u001b[0m\u001b[0;34m'data_4uni_structures_10000.json'\u001b[0m\u001b[0;34m,\u001b[0m \u001b[0;34m'w'\u001b[0m\u001b[0;34m)\u001b[0m \u001b[0;32mas\u001b[0m \u001b[0mfp\u001b[0m\u001b[0;34m:\u001b[0m\u001b[0;34m\u001b[0m\u001b[0;34m\u001b[0m\u001b[0m\n\u001b[0;32m----> 2\u001b[0;31m     \u001b[0mjson\u001b[0m\u001b[0;34m.\u001b[0m\u001b[0mdump\u001b[0m\u001b[0;34m(\u001b[0m\u001b[0mall_in\u001b[0m\u001b[0;34m,\u001b[0m \u001b[0mfp\u001b[0m\u001b[0;34m)\u001b[0m\u001b[0;34m\u001b[0m\u001b[0;34m\u001b[0m\u001b[0m\n\u001b[0m",
      "\u001b[0;32m/usr/lib/python3.7/json/__init__.py\u001b[0m in \u001b[0;36mdump\u001b[0;34m(obj, fp, skipkeys, ensure_ascii, check_circular, allow_nan, cls, indent, separators, default, sort_keys, **kw)\u001b[0m\n\u001b[1;32m    177\u001b[0m     \u001b[0;31m# could accelerate with writelines in some versions of Python, at\u001b[0m\u001b[0;34m\u001b[0m\u001b[0;34m\u001b[0m\u001b[0;34m\u001b[0m\u001b[0m\n\u001b[1;32m    178\u001b[0m     \u001b[0;31m# a debuggability cost\u001b[0m\u001b[0;34m\u001b[0m\u001b[0;34m\u001b[0m\u001b[0;34m\u001b[0m\u001b[0m\n\u001b[0;32m--> 179\u001b[0;31m     \u001b[0;32mfor\u001b[0m \u001b[0mchunk\u001b[0m \u001b[0;32min\u001b[0m \u001b[0miterable\u001b[0m\u001b[0;34m:\u001b[0m\u001b[0;34m\u001b[0m\u001b[0;34m\u001b[0m\u001b[0m\n\u001b[0m\u001b[1;32m    180\u001b[0m         \u001b[0mfp\u001b[0m\u001b[0;34m.\u001b[0m\u001b[0mwrite\u001b[0m\u001b[0;34m(\u001b[0m\u001b[0mchunk\u001b[0m\u001b[0;34m)\u001b[0m\u001b[0;34m\u001b[0m\u001b[0;34m\u001b[0m\u001b[0m\n\u001b[1;32m    181\u001b[0m \u001b[0;34m\u001b[0m\u001b[0m\n",
      "\u001b[0;32m/usr/lib/python3.7/json/encoder.py\u001b[0m in \u001b[0;36m_iterencode\u001b[0;34m(o, _current_indent_level)\u001b[0m\n\u001b[1;32m    429\u001b[0m             \u001b[0;32myield\u001b[0m \u001b[0;32mfrom\u001b[0m \u001b[0m_iterencode_list\u001b[0m\u001b[0;34m(\u001b[0m\u001b[0mo\u001b[0m\u001b[0;34m,\u001b[0m \u001b[0m_current_indent_level\u001b[0m\u001b[0;34m)\u001b[0m\u001b[0;34m\u001b[0m\u001b[0;34m\u001b[0m\u001b[0m\n\u001b[1;32m    430\u001b[0m         \u001b[0;32melif\u001b[0m \u001b[0misinstance\u001b[0m\u001b[0;34m(\u001b[0m\u001b[0mo\u001b[0m\u001b[0;34m,\u001b[0m \u001b[0mdict\u001b[0m\u001b[0;34m)\u001b[0m\u001b[0;34m:\u001b[0m\u001b[0;34m\u001b[0m\u001b[0;34m\u001b[0m\u001b[0m\n\u001b[0;32m--> 431\u001b[0;31m             \u001b[0;32myield\u001b[0m \u001b[0;32mfrom\u001b[0m \u001b[0m_iterencode_dict\u001b[0m\u001b[0;34m(\u001b[0m\u001b[0mo\u001b[0m\u001b[0;34m,\u001b[0m \u001b[0m_current_indent_level\u001b[0m\u001b[0;34m)\u001b[0m\u001b[0;34m\u001b[0m\u001b[0;34m\u001b[0m\u001b[0m\n\u001b[0m\u001b[1;32m    432\u001b[0m         \u001b[0;32melse\u001b[0m\u001b[0;34m:\u001b[0m\u001b[0;34m\u001b[0m\u001b[0;34m\u001b[0m\u001b[0m\n\u001b[1;32m    433\u001b[0m             \u001b[0;32mif\u001b[0m \u001b[0mmarkers\u001b[0m \u001b[0;32mis\u001b[0m \u001b[0;32mnot\u001b[0m \u001b[0;32mNone\u001b[0m\u001b[0;34m:\u001b[0m\u001b[0;34m\u001b[0m\u001b[0;34m\u001b[0m\u001b[0m\n",
      "\u001b[0;32m/usr/lib/python3.7/json/encoder.py\u001b[0m in \u001b[0;36m_iterencode_dict\u001b[0;34m(dct, _current_indent_level)\u001b[0m\n\u001b[1;32m    403\u001b[0m                 \u001b[0;32melse\u001b[0m\u001b[0;34m:\u001b[0m\u001b[0;34m\u001b[0m\u001b[0;34m\u001b[0m\u001b[0m\n\u001b[1;32m    404\u001b[0m                     \u001b[0mchunks\u001b[0m \u001b[0;34m=\u001b[0m \u001b[0m_iterencode\u001b[0m\u001b[0;34m(\u001b[0m\u001b[0mvalue\u001b[0m\u001b[0;34m,\u001b[0m \u001b[0m_current_indent_level\u001b[0m\u001b[0;34m)\u001b[0m\u001b[0;34m\u001b[0m\u001b[0;34m\u001b[0m\u001b[0m\n\u001b[0;32m--> 405\u001b[0;31m                 \u001b[0;32myield\u001b[0m \u001b[0;32mfrom\u001b[0m \u001b[0mchunks\u001b[0m\u001b[0;34m\u001b[0m\u001b[0;34m\u001b[0m\u001b[0m\n\u001b[0m\u001b[1;32m    406\u001b[0m         \u001b[0;32mif\u001b[0m \u001b[0mnewline_indent\u001b[0m \u001b[0;32mis\u001b[0m \u001b[0;32mnot\u001b[0m \u001b[0;32mNone\u001b[0m\u001b[0;34m:\u001b[0m\u001b[0;34m\u001b[0m\u001b[0;34m\u001b[0m\u001b[0m\n\u001b[1;32m    407\u001b[0m             \u001b[0m_current_indent_level\u001b[0m \u001b[0;34m-=\u001b[0m \u001b[0;36m1\u001b[0m\u001b[0;34m\u001b[0m\u001b[0;34m\u001b[0m\u001b[0m\n",
      "\u001b[0;32m/usr/lib/python3.7/json/encoder.py\u001b[0m in \u001b[0;36m_iterencode_dict\u001b[0;34m(dct, _current_indent_level)\u001b[0m\n\u001b[1;32m    403\u001b[0m                 \u001b[0;32melse\u001b[0m\u001b[0;34m:\u001b[0m\u001b[0;34m\u001b[0m\u001b[0;34m\u001b[0m\u001b[0m\n\u001b[1;32m    404\u001b[0m                     \u001b[0mchunks\u001b[0m \u001b[0;34m=\u001b[0m \u001b[0m_iterencode\u001b[0m\u001b[0;34m(\u001b[0m\u001b[0mvalue\u001b[0m\u001b[0;34m,\u001b[0m \u001b[0m_current_indent_level\u001b[0m\u001b[0;34m)\u001b[0m\u001b[0;34m\u001b[0m\u001b[0;34m\u001b[0m\u001b[0m\n\u001b[0;32m--> 405\u001b[0;31m                 \u001b[0;32myield\u001b[0m \u001b[0;32mfrom\u001b[0m \u001b[0mchunks\u001b[0m\u001b[0;34m\u001b[0m\u001b[0;34m\u001b[0m\u001b[0m\n\u001b[0m\u001b[1;32m    406\u001b[0m         \u001b[0;32mif\u001b[0m \u001b[0mnewline_indent\u001b[0m \u001b[0;32mis\u001b[0m \u001b[0;32mnot\u001b[0m \u001b[0;32mNone\u001b[0m\u001b[0;34m:\u001b[0m\u001b[0;34m\u001b[0m\u001b[0;34m\u001b[0m\u001b[0m\n\u001b[1;32m    407\u001b[0m             \u001b[0m_current_indent_level\u001b[0m \u001b[0;34m-=\u001b[0m \u001b[0;36m1\u001b[0m\u001b[0;34m\u001b[0m\u001b[0;34m\u001b[0m\u001b[0m\n",
      "\u001b[0;32m/usr/lib/python3.7/json/encoder.py\u001b[0m in \u001b[0;36m_iterencode_dict\u001b[0;34m(dct, _current_indent_level)\u001b[0m\n\u001b[1;32m    403\u001b[0m                 \u001b[0;32melse\u001b[0m\u001b[0;34m:\u001b[0m\u001b[0;34m\u001b[0m\u001b[0;34m\u001b[0m\u001b[0m\n\u001b[1;32m    404\u001b[0m                     \u001b[0mchunks\u001b[0m \u001b[0;34m=\u001b[0m \u001b[0m_iterencode\u001b[0m\u001b[0;34m(\u001b[0m\u001b[0mvalue\u001b[0m\u001b[0;34m,\u001b[0m \u001b[0m_current_indent_level\u001b[0m\u001b[0;34m)\u001b[0m\u001b[0;34m\u001b[0m\u001b[0;34m\u001b[0m\u001b[0m\n\u001b[0;32m--> 405\u001b[0;31m                 \u001b[0;32myield\u001b[0m \u001b[0;32mfrom\u001b[0m \u001b[0mchunks\u001b[0m\u001b[0;34m\u001b[0m\u001b[0;34m\u001b[0m\u001b[0m\n\u001b[0m\u001b[1;32m    406\u001b[0m         \u001b[0;32mif\u001b[0m \u001b[0mnewline_indent\u001b[0m \u001b[0;32mis\u001b[0m \u001b[0;32mnot\u001b[0m \u001b[0;32mNone\u001b[0m\u001b[0;34m:\u001b[0m\u001b[0;34m\u001b[0m\u001b[0;34m\u001b[0m\u001b[0m\n\u001b[1;32m    407\u001b[0m             \u001b[0m_current_indent_level\u001b[0m \u001b[0;34m-=\u001b[0m \u001b[0;36m1\u001b[0m\u001b[0;34m\u001b[0m\u001b[0;34m\u001b[0m\u001b[0m\n",
      "\u001b[0;32m/usr/lib/python3.7/json/encoder.py\u001b[0m in \u001b[0;36m_iterencode_list\u001b[0;34m(lst, _current_indent_level)\u001b[0m\n\u001b[1;32m    323\u001b[0m                 \u001b[0;32melse\u001b[0m\u001b[0;34m:\u001b[0m\u001b[0;34m\u001b[0m\u001b[0;34m\u001b[0m\u001b[0m\n\u001b[1;32m    324\u001b[0m                     \u001b[0mchunks\u001b[0m \u001b[0;34m=\u001b[0m \u001b[0m_iterencode\u001b[0m\u001b[0;34m(\u001b[0m\u001b[0mvalue\u001b[0m\u001b[0;34m,\u001b[0m \u001b[0m_current_indent_level\u001b[0m\u001b[0;34m)\u001b[0m\u001b[0;34m\u001b[0m\u001b[0;34m\u001b[0m\u001b[0m\n\u001b[0;32m--> 325\u001b[0;31m                 \u001b[0;32myield\u001b[0m \u001b[0;32mfrom\u001b[0m \u001b[0mchunks\u001b[0m\u001b[0;34m\u001b[0m\u001b[0;34m\u001b[0m\u001b[0m\n\u001b[0m\u001b[1;32m    326\u001b[0m         \u001b[0;32mif\u001b[0m \u001b[0mnewline_indent\u001b[0m \u001b[0;32mis\u001b[0m \u001b[0;32mnot\u001b[0m \u001b[0;32mNone\u001b[0m\u001b[0;34m:\u001b[0m\u001b[0;34m\u001b[0m\u001b[0;34m\u001b[0m\u001b[0m\n\u001b[1;32m    327\u001b[0m             \u001b[0m_current_indent_level\u001b[0m \u001b[0;34m-=\u001b[0m \u001b[0;36m1\u001b[0m\u001b[0;34m\u001b[0m\u001b[0;34m\u001b[0m\u001b[0m\n",
      "\u001b[0;32m/usr/lib/python3.7/json/encoder.py\u001b[0m in \u001b[0;36m_iterencode\u001b[0;34m(o, _current_indent_level)\u001b[0m\n\u001b[1;32m    436\u001b[0m                     \u001b[0;32mraise\u001b[0m \u001b[0mValueError\u001b[0m\u001b[0;34m(\u001b[0m\u001b[0;34m\"Circular reference detected\"\u001b[0m\u001b[0;34m)\u001b[0m\u001b[0;34m\u001b[0m\u001b[0;34m\u001b[0m\u001b[0m\n\u001b[1;32m    437\u001b[0m                 \u001b[0mmarkers\u001b[0m\u001b[0;34m[\u001b[0m\u001b[0mmarkerid\u001b[0m\u001b[0;34m]\u001b[0m \u001b[0;34m=\u001b[0m \u001b[0mo\u001b[0m\u001b[0;34m\u001b[0m\u001b[0;34m\u001b[0m\u001b[0m\n\u001b[0;32m--> 438\u001b[0;31m             \u001b[0mo\u001b[0m \u001b[0;34m=\u001b[0m \u001b[0m_default\u001b[0m\u001b[0;34m(\u001b[0m\u001b[0mo\u001b[0m\u001b[0;34m)\u001b[0m\u001b[0;34m\u001b[0m\u001b[0;34m\u001b[0m\u001b[0m\n\u001b[0m\u001b[1;32m    439\u001b[0m             \u001b[0;32myield\u001b[0m \u001b[0;32mfrom\u001b[0m \u001b[0m_iterencode\u001b[0m\u001b[0;34m(\u001b[0m\u001b[0mo\u001b[0m\u001b[0;34m,\u001b[0m \u001b[0m_current_indent_level\u001b[0m\u001b[0;34m)\u001b[0m\u001b[0;34m\u001b[0m\u001b[0;34m\u001b[0m\u001b[0m\n\u001b[1;32m    440\u001b[0m             \u001b[0;32mif\u001b[0m \u001b[0mmarkers\u001b[0m \u001b[0;32mis\u001b[0m \u001b[0;32mnot\u001b[0m \u001b[0;32mNone\u001b[0m\u001b[0;34m:\u001b[0m\u001b[0;34m\u001b[0m\u001b[0;34m\u001b[0m\u001b[0m\n",
      "\u001b[0;32m/usr/lib/python3.7/json/encoder.py\u001b[0m in \u001b[0;36mdefault\u001b[0;34m(self, o)\u001b[0m\n\u001b[1;32m    177\u001b[0m \u001b[0;34m\u001b[0m\u001b[0m\n\u001b[1;32m    178\u001b[0m         \"\"\"\n\u001b[0;32m--> 179\u001b[0;31m         raise TypeError(f'Object of type {o.__class__.__name__} '\n\u001b[0m\u001b[1;32m    180\u001b[0m                         f'is not JSON serializable')\n\u001b[1;32m    181\u001b[0m \u001b[0;34m\u001b[0m\u001b[0m\n",
      "\u001b[0;31mTypeError\u001b[0m: Object of type int64 is not JSON serializable"
     ]
    }
   ],
   "source": [
    "with open('data_4uni_structures_10000.json', 'w') as fp:\n",
    "    json.dump(all_in, fp)"
   ]
  },
  {
   "cell_type": "code",
   "execution_count": null,
   "metadata": {
    "id": "uJioq-54Zybi"
   },
   "outputs": [],
   "source": [
    "with open(pathdir+'/data_4uni_structures.json', 'r') as fp:\n",
    "    all_in = json.load(fp)"
   ]
  },
  {
   "cell_type": "code",
   "execution_count": 25,
   "metadata": {
    "colab": {
     "base_uri": "https://localhost:8080/",
     "height": 386
    },
    "executionInfo": {
     "elapsed": 383,
     "status": "error",
     "timestamp": 1622212809021,
     "user": {
      "displayName": "Balázs Csegő Kolok",
      "photoUrl": "https://lh3.googleusercontent.com/a-/AOh14GizElBU6t4C1dp2-BqN6yH3njYpOSYmXC27d2_J=s64",
      "userId": "01455502549978942683"
     },
     "user_tz": -120
    },
    "id": "sE3ZTQ3ylcql",
    "outputId": "d8aa6ae1-d064-402f-94b5-08a477b9cb94"
   },
   "outputs": [
    {
     "ename": "ZeroDivisionError",
     "evalue": "ignored",
     "output_type": "error",
     "traceback": [
      "\u001b[0;31m---------------------------------------------------------------------------\u001b[0m",
      "\u001b[0;31mZeroDivisionError\u001b[0m                         Traceback (most recent call last)",
      "\u001b[0;32m<ipython-input-25-9149d79266fc>\u001b[0m in \u001b[0;36m<module>\u001b[0;34m()\u001b[0m\n\u001b[1;32m      1\u001b[0m \u001b[0mlabels\u001b[0m\u001b[0;34m=\u001b[0m\u001b[0;34m[\u001b[0m\u001b[0;34m'av. maximum of the infectious rates'\u001b[0m\u001b[0;34m,\u001b[0m \u001b[0;34m'spreading rate of the hyperedges'\u001b[0m\u001b[0;34m]\u001b[0m\u001b[0;34m\u001b[0m\u001b[0;34m\u001b[0m\u001b[0m\n\u001b[0;32m----> 2\u001b[0;31m \u001b[0mplotter\u001b[0m\u001b[0;34m.\u001b[0m\u001b[0mav_numbers_by_keyparameter\u001b[0m\u001b[0;34m(\u001b[0m\u001b[0mall_in\u001b[0m\u001b[0;34m[\u001b[0m\u001b[0;34m'av maxs'\u001b[0m\u001b[0;34m]\u001b[0m\u001b[0;34m,\u001b[0m\u001b[0mlabels\u001b[0m\u001b[0;34m)\u001b[0m\u001b[0;34m\u001b[0m\u001b[0;34m\u001b[0m\u001b[0m\n\u001b[0m",
      "\u001b[0;32m/content/drive/MyDrive/EpidemicModel/model3/epidemicplotter.py\u001b[0m in \u001b[0;36mav_numbers_by_keyparameter\u001b[0;34m(self, runs, labels, scat)\u001b[0m\n\u001b[1;32m    224\u001b[0m         \u001b[0;32mfor\u001b[0m \u001b[0mi\u001b[0m \u001b[0;32min\u001b[0m \u001b[0mrange\u001b[0m\u001b[0;34m(\u001b[0m\u001b[0mlen\u001b[0m\u001b[0;34m(\u001b[0m\u001b[0mmodes\u001b[0m\u001b[0;34m)\u001b[0m\u001b[0;34m)\u001b[0m\u001b[0;34m:\u001b[0m\u001b[0;34m\u001b[0m\u001b[0;34m\u001b[0m\u001b[0m\n\u001b[1;32m    225\u001b[0m             \u001b[0mx\u001b[0m \u001b[0;34m=\u001b[0m \u001b[0mnp\u001b[0m\u001b[0;34m.\u001b[0m\u001b[0marray\u001b[0m\u001b[0;34m(\u001b[0m\u001b[0mkeys\u001b[0m\u001b[0;34m,\u001b[0m \u001b[0mdtype\u001b[0m\u001b[0;34m=\u001b[0m\u001b[0mfloat\u001b[0m\u001b[0;34m)\u001b[0m\u001b[0;34m\u001b[0m\u001b[0;34m\u001b[0m\u001b[0m\n\u001b[0;32m--> 226\u001b[0;31m             \u001b[0my\u001b[0m\u001b[0;34m=\u001b[0m \u001b[0;34m[\u001b[0m\u001b[0mself\u001b[0m\u001b[0;34m.\u001b[0m\u001b[0mav_cut_10_percent\u001b[0m\u001b[0;34m(\u001b[0m\u001b[0mruns\u001b[0m\u001b[0;34m[\u001b[0m\u001b[0mmodes\u001b[0m\u001b[0;34m[\u001b[0m\u001b[0mi\u001b[0m\u001b[0;34m]\u001b[0m\u001b[0;34m]\u001b[0m\u001b[0;34m[\u001b[0m\u001b[0mj\u001b[0m\u001b[0;34m]\u001b[0m\u001b[0;34m)\u001b[0m \u001b[0;32mfor\u001b[0m \u001b[0mj\u001b[0m \u001b[0;32min\u001b[0m \u001b[0mkeys\u001b[0m\u001b[0;34m]\u001b[0m\u001b[0;34m\u001b[0m\u001b[0;34m\u001b[0m\u001b[0m\n\u001b[0m\u001b[1;32m    227\u001b[0m             \u001b[0mplt\u001b[0m\u001b[0;34m.\u001b[0m\u001b[0mplot\u001b[0m\u001b[0;34m(\u001b[0m\u001b[0mx\u001b[0m\u001b[0;34m,\u001b[0m\u001b[0my\u001b[0m\u001b[0;34m,\u001b[0m\u001b[0mcols\u001b[0m\u001b[0;34m[\u001b[0m\u001b[0mi\u001b[0m\u001b[0;34m]\u001b[0m\u001b[0;34m,\u001b[0m\u001b[0mlabel\u001b[0m\u001b[0;34m=\u001b[0m\u001b[0mmodes\u001b[0m\u001b[0;34m[\u001b[0m\u001b[0mi\u001b[0m\u001b[0;34m]\u001b[0m\u001b[0;34m)\u001b[0m\u001b[0;34m\u001b[0m\u001b[0;34m\u001b[0m\u001b[0m\n\u001b[1;32m    228\u001b[0m         \u001b[0mplt\u001b[0m\u001b[0;34m.\u001b[0m\u001b[0mlegend\u001b[0m\u001b[0;34m(\u001b[0m\u001b[0mfontsize\u001b[0m\u001b[0;34m=\u001b[0m\u001b[0;34m'xx-large'\u001b[0m\u001b[0;34m)\u001b[0m\u001b[0;34m\u001b[0m\u001b[0;34m\u001b[0m\u001b[0m\n",
      "\u001b[0;32m/content/drive/MyDrive/EpidemicModel/model3/epidemicplotter.py\u001b[0m in \u001b[0;36m<listcomp>\u001b[0;34m(.0)\u001b[0m\n\u001b[1;32m    224\u001b[0m         \u001b[0;32mfor\u001b[0m \u001b[0mi\u001b[0m \u001b[0;32min\u001b[0m \u001b[0mrange\u001b[0m\u001b[0;34m(\u001b[0m\u001b[0mlen\u001b[0m\u001b[0;34m(\u001b[0m\u001b[0mmodes\u001b[0m\u001b[0;34m)\u001b[0m\u001b[0;34m)\u001b[0m\u001b[0;34m:\u001b[0m\u001b[0;34m\u001b[0m\u001b[0;34m\u001b[0m\u001b[0m\n\u001b[1;32m    225\u001b[0m             \u001b[0mx\u001b[0m \u001b[0;34m=\u001b[0m \u001b[0mnp\u001b[0m\u001b[0;34m.\u001b[0m\u001b[0marray\u001b[0m\u001b[0;34m(\u001b[0m\u001b[0mkeys\u001b[0m\u001b[0;34m,\u001b[0m \u001b[0mdtype\u001b[0m\u001b[0;34m=\u001b[0m\u001b[0mfloat\u001b[0m\u001b[0;34m)\u001b[0m\u001b[0;34m\u001b[0m\u001b[0;34m\u001b[0m\u001b[0m\n\u001b[0;32m--> 226\u001b[0;31m             \u001b[0my\u001b[0m\u001b[0;34m=\u001b[0m \u001b[0;34m[\u001b[0m\u001b[0mself\u001b[0m\u001b[0;34m.\u001b[0m\u001b[0mav_cut_10_percent\u001b[0m\u001b[0;34m(\u001b[0m\u001b[0mruns\u001b[0m\u001b[0;34m[\u001b[0m\u001b[0mmodes\u001b[0m\u001b[0;34m[\u001b[0m\u001b[0mi\u001b[0m\u001b[0;34m]\u001b[0m\u001b[0;34m]\u001b[0m\u001b[0;34m[\u001b[0m\u001b[0mj\u001b[0m\u001b[0;34m]\u001b[0m\u001b[0;34m)\u001b[0m \u001b[0;32mfor\u001b[0m \u001b[0mj\u001b[0m \u001b[0;32min\u001b[0m \u001b[0mkeys\u001b[0m\u001b[0;34m]\u001b[0m\u001b[0;34m\u001b[0m\u001b[0;34m\u001b[0m\u001b[0m\n\u001b[0m\u001b[1;32m    227\u001b[0m             \u001b[0mplt\u001b[0m\u001b[0;34m.\u001b[0m\u001b[0mplot\u001b[0m\u001b[0;34m(\u001b[0m\u001b[0mx\u001b[0m\u001b[0;34m,\u001b[0m\u001b[0my\u001b[0m\u001b[0;34m,\u001b[0m\u001b[0mcols\u001b[0m\u001b[0;34m[\u001b[0m\u001b[0mi\u001b[0m\u001b[0;34m]\u001b[0m\u001b[0;34m,\u001b[0m\u001b[0mlabel\u001b[0m\u001b[0;34m=\u001b[0m\u001b[0mmodes\u001b[0m\u001b[0;34m[\u001b[0m\u001b[0mi\u001b[0m\u001b[0;34m]\u001b[0m\u001b[0;34m)\u001b[0m\u001b[0;34m\u001b[0m\u001b[0;34m\u001b[0m\u001b[0m\n\u001b[1;32m    228\u001b[0m         \u001b[0mplt\u001b[0m\u001b[0;34m.\u001b[0m\u001b[0mlegend\u001b[0m\u001b[0;34m(\u001b[0m\u001b[0mfontsize\u001b[0m\u001b[0;34m=\u001b[0m\u001b[0;34m'xx-large'\u001b[0m\u001b[0;34m)\u001b[0m\u001b[0;34m\u001b[0m\u001b[0;34m\u001b[0m\u001b[0m\n",
      "\u001b[0;32m/content/drive/MyDrive/EpidemicModel/model3/epidemicplotter.py\u001b[0m in \u001b[0;36mav_cut_10_percent\u001b[0;34m(self, vec)\u001b[0m\n\u001b[1;32m     13\u001b[0m         \u001b[0ml\u001b[0m \u001b[0;34m=\u001b[0m \u001b[0mlen\u001b[0m\u001b[0;34m(\u001b[0m\u001b[0mvec\u001b[0m\u001b[0;34m)\u001b[0m\u001b[0;34m\u001b[0m\u001b[0;34m\u001b[0m\u001b[0m\n\u001b[1;32m     14\u001b[0m         \u001b[0mvec\u001b[0m\u001b[0;34m.\u001b[0m\u001b[0msort\u001b[0m\u001b[0;34m(\u001b[0m\u001b[0;34m)\u001b[0m\u001b[0;34m\u001b[0m\u001b[0;34m\u001b[0m\u001b[0m\n\u001b[0;32m---> 15\u001b[0;31m         \u001b[0;32mreturn\u001b[0m \u001b[0msum\u001b[0m\u001b[0;34m(\u001b[0m\u001b[0mvec\u001b[0m\u001b[0;34m[\u001b[0m\u001b[0mint\u001b[0m\u001b[0;34m(\u001b[0m\u001b[0ml\u001b[0m\u001b[0;34m/\u001b[0m\u001b[0;36m10\u001b[0m\u001b[0;34m)\u001b[0m\u001b[0;34m:\u001b[0m\u001b[0mint\u001b[0m\u001b[0;34m(\u001b[0m\u001b[0ml\u001b[0m\u001b[0;34m*\u001b[0m\u001b[0;36m9\u001b[0m\u001b[0;34m/\u001b[0m\u001b[0;36m10\u001b[0m\u001b[0;34m)\u001b[0m\u001b[0;34m]\u001b[0m\u001b[0;34m)\u001b[0m\u001b[0;34m/\u001b[0m\u001b[0mlen\u001b[0m\u001b[0;34m(\u001b[0m\u001b[0mvec\u001b[0m\u001b[0;34m[\u001b[0m\u001b[0mint\u001b[0m\u001b[0;34m(\u001b[0m\u001b[0ml\u001b[0m\u001b[0;34m/\u001b[0m\u001b[0;36m10\u001b[0m\u001b[0;34m)\u001b[0m\u001b[0;34m:\u001b[0m\u001b[0mint\u001b[0m\u001b[0;34m(\u001b[0m\u001b[0ml\u001b[0m\u001b[0;34m*\u001b[0m\u001b[0;36m9\u001b[0m\u001b[0;34m/\u001b[0m\u001b[0;36m10\u001b[0m\u001b[0;34m)\u001b[0m\u001b[0;34m]\u001b[0m\u001b[0;34m)\u001b[0m\u001b[0;34m\u001b[0m\u001b[0;34m\u001b[0m\u001b[0m\n\u001b[0m\u001b[1;32m     16\u001b[0m \u001b[0;34m\u001b[0m\u001b[0m\n\u001b[1;32m     17\u001b[0m     \u001b[0;32mdef\u001b[0m \u001b[0mplotting_av_rates\u001b[0m\u001b[0;34m(\u001b[0m\u001b[0mself\u001b[0m\u001b[0;34m,\u001b[0m\u001b[0mrun_hg\u001b[0m\u001b[0;34m,\u001b[0m \u001b[0mfilename\u001b[0m\u001b[0;34m=\u001b[0m\u001b[0;32mNone\u001b[0m\u001b[0;34m)\u001b[0m\u001b[0;34m:\u001b[0m\u001b[0;34m\u001b[0m\u001b[0;34m\u001b[0m\u001b[0m\n",
      "\u001b[0;31mZeroDivisionError\u001b[0m: division by zero"
     ]
    },
    {
     "data": {
      "text/plain": [
       "<Figure size 720x504 with 0 Axes>"
      ]
     },
     "metadata": {
      "tags": []
     },
     "output_type": "display_data"
    }
   ],
   "source": [
    "labels=['av. maximum of the infectious rates', 'spreading rate of the hyperedges']\n",
    "av_numbers_by_keyparameter(all_in['av maxs'],labels)"
   ]
  },
  {
   "cell_type": "code",
   "execution_count": 17,
   "metadata": {
    "colab": {
     "base_uri": "https://localhost:8080/",
     "height": 178
    },
    "executionInfo": {
     "elapsed": 375,
     "status": "error",
     "timestamp": 1622212616023,
     "user": {
      "displayName": "Balázs Csegő Kolok",
      "photoUrl": "https://lh3.googleusercontent.com/a-/AOh14GizElBU6t4C1dp2-BqN6yH3njYpOSYmXC27d2_J=s64",
      "userId": "01455502549978942683"
     },
     "user_tz": -120
    },
    "id": "9btWuYPNoXxM",
    "outputId": "bebd770f-93f0-4bb2-953e-c0a31c30d00f"
   },
   "outputs": [
    {
     "ename": "NameError",
     "evalue": "ignored",
     "output_type": "error",
     "traceback": [
      "\u001b[0;31m---------------------------------------------------------------------------\u001b[0m",
      "\u001b[0;31mNameError\u001b[0m                                 Traceback (most recent call last)",
      "\u001b[0;32m<ipython-input-17-9675b8a6921f>\u001b[0m in \u001b[0;36m<module>\u001b[0;34m()\u001b[0m\n\u001b[1;32m      1\u001b[0m \u001b[0mlabels\u001b[0m\u001b[0;34m=\u001b[0m\u001b[0;34m[\u001b[0m\u001b[0;34m'average final size'\u001b[0m\u001b[0;34m,\u001b[0m \u001b[0;34m'spreading rate of the hyperedges'\u001b[0m\u001b[0;34m]\u001b[0m\u001b[0;34m\u001b[0m\u001b[0;34m\u001b[0m\u001b[0m\n\u001b[0;32m----> 2\u001b[0;31m \u001b[0mplotter\u001b[0m\u001b[0;34m.\u001b[0m\u001b[0mav_numbers_by_keyparameter\u001b[0m\u001b[0;34m(\u001b[0m\u001b[0mall_in\u001b[0m\u001b[0;34m[\u001b[0m\u001b[0;34m'av finals'\u001b[0m\u001b[0;34m]\u001b[0m\u001b[0;34m,\u001b[0m\u001b[0mlabels\u001b[0m\u001b[0;34m)\u001b[0m\u001b[0;34m\u001b[0m\u001b[0;34m\u001b[0m\u001b[0m\n\u001b[0m",
      "\u001b[0;31mNameError\u001b[0m: name 'plotter' is not defined"
     ]
    }
   ],
   "source": [
    "labels=['average final size', 'spreading rate of the hyperedges']\n",
    "plotter.av_numbers_by_keyparameter(all_in['av finals'],labels)"
   ]
  },
  {
   "cell_type": "code",
   "execution_count": 31,
   "metadata": {
    "colab": {
     "base_uri": "https://localhost:8080/",
     "height": 369
    },
    "executionInfo": {
     "elapsed": 558,
     "status": "error",
     "timestamp": 1622213345758,
     "user": {
      "displayName": "Balázs Csegő Kolok",
      "photoUrl": "https://lh3.googleusercontent.com/a-/AOh14GizElBU6t4C1dp2-BqN6yH3njYpOSYmXC27d2_J=s64",
      "userId": "01455502549978942683"
     },
     "user_tz": -120
    },
    "id": "vnju-c3uoy8X",
    "outputId": "55ff37c4-7c0f-437f-c247-f5121d2ea400"
   },
   "outputs": [
    {
     "ename": "ZeroDivisionError",
     "evalue": "ignored",
     "output_type": "error",
     "traceback": [
      "\u001b[0;31m---------------------------------------------------------------------------\u001b[0m",
      "\u001b[0;31mZeroDivisionError\u001b[0m                         Traceback (most recent call last)",
      "\u001b[0;32m<ipython-input-31-082d1cdd7fe4>\u001b[0m in \u001b[0;36m<module>\u001b[0;34m()\u001b[0m\n\u001b[1;32m      1\u001b[0m \u001b[0mlabels\u001b[0m\u001b[0;34m=\u001b[0m\u001b[0;34m[\u001b[0m\u001b[0;34m'average end time'\u001b[0m\u001b[0;34m,\u001b[0m \u001b[0;34m'spreading rate of the hyperedges'\u001b[0m\u001b[0;34m]\u001b[0m\u001b[0;34m\u001b[0m\u001b[0;34m\u001b[0m\u001b[0m\n\u001b[0;32m----> 2\u001b[0;31m \u001b[0mplotter\u001b[0m\u001b[0;34m.\u001b[0m\u001b[0mav_numbers_by_keyparameter\u001b[0m\u001b[0;34m(\u001b[0m\u001b[0mall_in\u001b[0m\u001b[0;34m[\u001b[0m\u001b[0;34m'av finds'\u001b[0m\u001b[0;34m]\u001b[0m\u001b[0;34m,\u001b[0m\u001b[0mlabels\u001b[0m\u001b[0;34m)\u001b[0m\u001b[0;34m\u001b[0m\u001b[0;34m\u001b[0m\u001b[0m\n\u001b[0m",
      "\u001b[0;32m/content/drive/MyDrive/EpidemicModel/model3/epidemicplotter.py\u001b[0m in \u001b[0;36mav_numbers_by_keyparameter\u001b[0;34m(self, runs, labels, scat)\u001b[0m\n\u001b[1;32m    224\u001b[0m         \u001b[0;32mfor\u001b[0m \u001b[0mi\u001b[0m \u001b[0;32min\u001b[0m \u001b[0mrange\u001b[0m\u001b[0;34m(\u001b[0m\u001b[0mlen\u001b[0m\u001b[0;34m(\u001b[0m\u001b[0mmodes\u001b[0m\u001b[0;34m)\u001b[0m\u001b[0;34m)\u001b[0m\u001b[0;34m:\u001b[0m\u001b[0;34m\u001b[0m\u001b[0;34m\u001b[0m\u001b[0m\n\u001b[1;32m    225\u001b[0m             \u001b[0mx\u001b[0m \u001b[0;34m=\u001b[0m \u001b[0mnp\u001b[0m\u001b[0;34m.\u001b[0m\u001b[0marray\u001b[0m\u001b[0;34m(\u001b[0m\u001b[0mkeys\u001b[0m\u001b[0;34m,\u001b[0m \u001b[0mdtype\u001b[0m\u001b[0;34m=\u001b[0m\u001b[0mfloat\u001b[0m\u001b[0;34m)\u001b[0m\u001b[0;34m\u001b[0m\u001b[0;34m\u001b[0m\u001b[0m\n\u001b[0;32m--> 226\u001b[0;31m             \u001b[0my\u001b[0m\u001b[0;34m=\u001b[0m \u001b[0;34m[\u001b[0m\u001b[0mself\u001b[0m\u001b[0;34m.\u001b[0m\u001b[0mav_cut_10_percent\u001b[0m\u001b[0;34m(\u001b[0m\u001b[0mruns\u001b[0m\u001b[0;34m[\u001b[0m\u001b[0mmodes\u001b[0m\u001b[0;34m[\u001b[0m\u001b[0mi\u001b[0m\u001b[0;34m]\u001b[0m\u001b[0;34m]\u001b[0m\u001b[0;34m[\u001b[0m\u001b[0mj\u001b[0m\u001b[0;34m]\u001b[0m\u001b[0;34m)\u001b[0m \u001b[0;32mfor\u001b[0m \u001b[0mj\u001b[0m \u001b[0;32min\u001b[0m \u001b[0mkeys\u001b[0m\u001b[0;34m]\u001b[0m\u001b[0;34m\u001b[0m\u001b[0;34m\u001b[0m\u001b[0m\n\u001b[0m\u001b[1;32m    227\u001b[0m             \u001b[0mplt\u001b[0m\u001b[0;34m.\u001b[0m\u001b[0mplot\u001b[0m\u001b[0;34m(\u001b[0m\u001b[0mx\u001b[0m\u001b[0;34m,\u001b[0m\u001b[0my\u001b[0m\u001b[0;34m,\u001b[0m\u001b[0mcols\u001b[0m\u001b[0;34m[\u001b[0m\u001b[0mi\u001b[0m\u001b[0;34m]\u001b[0m\u001b[0;34m,\u001b[0m\u001b[0mlabel\u001b[0m\u001b[0;34m=\u001b[0m\u001b[0mmodes\u001b[0m\u001b[0;34m[\u001b[0m\u001b[0mi\u001b[0m\u001b[0;34m]\u001b[0m\u001b[0;34m)\u001b[0m\u001b[0;34m\u001b[0m\u001b[0;34m\u001b[0m\u001b[0m\n\u001b[1;32m    228\u001b[0m         \u001b[0mplt\u001b[0m\u001b[0;34m.\u001b[0m\u001b[0mlegend\u001b[0m\u001b[0;34m(\u001b[0m\u001b[0mfontsize\u001b[0m\u001b[0;34m=\u001b[0m\u001b[0;34m'xx-large'\u001b[0m\u001b[0;34m)\u001b[0m\u001b[0;34m\u001b[0m\u001b[0;34m\u001b[0m\u001b[0m\n",
      "\u001b[0;32m/content/drive/MyDrive/EpidemicModel/model3/epidemicplotter.py\u001b[0m in \u001b[0;36m<listcomp>\u001b[0;34m(.0)\u001b[0m\n\u001b[1;32m    224\u001b[0m         \u001b[0;32mfor\u001b[0m \u001b[0mi\u001b[0m \u001b[0;32min\u001b[0m \u001b[0mrange\u001b[0m\u001b[0;34m(\u001b[0m\u001b[0mlen\u001b[0m\u001b[0;34m(\u001b[0m\u001b[0mmodes\u001b[0m\u001b[0;34m)\u001b[0m\u001b[0;34m)\u001b[0m\u001b[0;34m:\u001b[0m\u001b[0;34m\u001b[0m\u001b[0;34m\u001b[0m\u001b[0m\n\u001b[1;32m    225\u001b[0m             \u001b[0mx\u001b[0m \u001b[0;34m=\u001b[0m \u001b[0mnp\u001b[0m\u001b[0;34m.\u001b[0m\u001b[0marray\u001b[0m\u001b[0;34m(\u001b[0m\u001b[0mkeys\u001b[0m\u001b[0;34m,\u001b[0m \u001b[0mdtype\u001b[0m\u001b[0;34m=\u001b[0m\u001b[0mfloat\u001b[0m\u001b[0;34m)\u001b[0m\u001b[0;34m\u001b[0m\u001b[0;34m\u001b[0m\u001b[0m\n\u001b[0;32m--> 226\u001b[0;31m             \u001b[0my\u001b[0m\u001b[0;34m=\u001b[0m \u001b[0;34m[\u001b[0m\u001b[0mself\u001b[0m\u001b[0;34m.\u001b[0m\u001b[0mav_cut_10_percent\u001b[0m\u001b[0;34m(\u001b[0m\u001b[0mruns\u001b[0m\u001b[0;34m[\u001b[0m\u001b[0mmodes\u001b[0m\u001b[0;34m[\u001b[0m\u001b[0mi\u001b[0m\u001b[0;34m]\u001b[0m\u001b[0;34m]\u001b[0m\u001b[0;34m[\u001b[0m\u001b[0mj\u001b[0m\u001b[0;34m]\u001b[0m\u001b[0;34m)\u001b[0m \u001b[0;32mfor\u001b[0m \u001b[0mj\u001b[0m \u001b[0;32min\u001b[0m \u001b[0mkeys\u001b[0m\u001b[0;34m]\u001b[0m\u001b[0;34m\u001b[0m\u001b[0;34m\u001b[0m\u001b[0m\n\u001b[0m\u001b[1;32m    227\u001b[0m             \u001b[0mplt\u001b[0m\u001b[0;34m.\u001b[0m\u001b[0mplot\u001b[0m\u001b[0;34m(\u001b[0m\u001b[0mx\u001b[0m\u001b[0;34m,\u001b[0m\u001b[0my\u001b[0m\u001b[0;34m,\u001b[0m\u001b[0mcols\u001b[0m\u001b[0;34m[\u001b[0m\u001b[0mi\u001b[0m\u001b[0;34m]\u001b[0m\u001b[0;34m,\u001b[0m\u001b[0mlabel\u001b[0m\u001b[0;34m=\u001b[0m\u001b[0mmodes\u001b[0m\u001b[0;34m[\u001b[0m\u001b[0mi\u001b[0m\u001b[0;34m]\u001b[0m\u001b[0;34m)\u001b[0m\u001b[0;34m\u001b[0m\u001b[0;34m\u001b[0m\u001b[0m\n\u001b[1;32m    228\u001b[0m         \u001b[0mplt\u001b[0m\u001b[0;34m.\u001b[0m\u001b[0mlegend\u001b[0m\u001b[0;34m(\u001b[0m\u001b[0mfontsize\u001b[0m\u001b[0;34m=\u001b[0m\u001b[0;34m'xx-large'\u001b[0m\u001b[0;34m)\u001b[0m\u001b[0;34m\u001b[0m\u001b[0;34m\u001b[0m\u001b[0m\n",
      "\u001b[0;32m/content/drive/MyDrive/EpidemicModel/model3/epidemicplotter.py\u001b[0m in \u001b[0;36mav_cut_10_percent\u001b[0;34m(self, vec)\u001b[0m\n\u001b[1;32m     13\u001b[0m         \u001b[0ml\u001b[0m \u001b[0;34m=\u001b[0m \u001b[0mlen\u001b[0m\u001b[0;34m(\u001b[0m\u001b[0mvec\u001b[0m\u001b[0;34m)\u001b[0m\u001b[0;34m\u001b[0m\u001b[0;34m\u001b[0m\u001b[0m\n\u001b[1;32m     14\u001b[0m         \u001b[0mvec\u001b[0m\u001b[0;34m.\u001b[0m\u001b[0msort\u001b[0m\u001b[0;34m(\u001b[0m\u001b[0;34m)\u001b[0m\u001b[0;34m\u001b[0m\u001b[0;34m\u001b[0m\u001b[0m\n\u001b[0;32m---> 15\u001b[0;31m         \u001b[0;32mreturn\u001b[0m \u001b[0msum\u001b[0m\u001b[0;34m(\u001b[0m\u001b[0mvec\u001b[0m\u001b[0;34m[\u001b[0m\u001b[0mint\u001b[0m\u001b[0;34m(\u001b[0m\u001b[0ml\u001b[0m\u001b[0;34m/\u001b[0m\u001b[0;36m10\u001b[0m\u001b[0;34m)\u001b[0m\u001b[0;34m:\u001b[0m\u001b[0mint\u001b[0m\u001b[0;34m(\u001b[0m\u001b[0ml\u001b[0m\u001b[0;34m*\u001b[0m\u001b[0;36m9\u001b[0m\u001b[0;34m/\u001b[0m\u001b[0;36m10\u001b[0m\u001b[0;34m)\u001b[0m\u001b[0;34m]\u001b[0m\u001b[0;34m)\u001b[0m\u001b[0;34m/\u001b[0m\u001b[0mlen\u001b[0m\u001b[0;34m(\u001b[0m\u001b[0mvec\u001b[0m\u001b[0;34m[\u001b[0m\u001b[0mint\u001b[0m\u001b[0;34m(\u001b[0m\u001b[0ml\u001b[0m\u001b[0;34m/\u001b[0m\u001b[0;36m10\u001b[0m\u001b[0;34m)\u001b[0m\u001b[0;34m:\u001b[0m\u001b[0mint\u001b[0m\u001b[0;34m(\u001b[0m\u001b[0ml\u001b[0m\u001b[0;34m*\u001b[0m\u001b[0;36m9\u001b[0m\u001b[0;34m/\u001b[0m\u001b[0;36m10\u001b[0m\u001b[0;34m)\u001b[0m\u001b[0;34m]\u001b[0m\u001b[0;34m)\u001b[0m\u001b[0;34m\u001b[0m\u001b[0;34m\u001b[0m\u001b[0m\n\u001b[0m\u001b[1;32m     16\u001b[0m \u001b[0;34m\u001b[0m\u001b[0m\n\u001b[1;32m     17\u001b[0m     \u001b[0;32mdef\u001b[0m \u001b[0mplotting_av_rates\u001b[0m\u001b[0;34m(\u001b[0m\u001b[0mself\u001b[0m\u001b[0;34m,\u001b[0m\u001b[0mrun_hg\u001b[0m\u001b[0;34m,\u001b[0m \u001b[0mfilename\u001b[0m\u001b[0;34m=\u001b[0m\u001b[0;32mNone\u001b[0m\u001b[0;34m)\u001b[0m\u001b[0;34m:\u001b[0m\u001b[0;34m\u001b[0m\u001b[0;34m\u001b[0m\u001b[0m\n",
      "\u001b[0;31mZeroDivisionError\u001b[0m: division by zero"
     ]
    },
    {
     "data": {
      "text/plain": [
       "<Figure size 720x504 with 0 Axes>"
      ]
     },
     "metadata": {
      "tags": []
     },
     "output_type": "display_data"
    }
   ],
   "source": [
    "labels=['average end time', 'spreading rate of the hyperedges']\n",
    "plotter.av_numbers_by_keyparameter(all_in['av finds'],labels)"
   ]
  },
  {
   "cell_type": "code",
   "execution_count": null,
   "metadata": {
    "id": "XRQCyaqycz39"
   },
   "outputs": [],
   "source": []
  }
 ],
 "metadata": {
  "colab": {
   "name": "erdosrenyi_barabasi.ipynb",
   "provenance": [],
   "toc_visible": true
  },
  "kernelspec": {
   "display_name": "Python 3",
   "language": "python",
   "name": "python3"
  },
  "language_info": {
   "codemirror_mode": {
    "name": "ipython",
    "version": 3
   },
   "file_extension": ".py",
   "mimetype": "text/x-python",
   "name": "python",
   "nbconvert_exporter": "python",
   "pygments_lexer": "ipython3",
   "version": "3.9.5"
  },
  "toc": {
   "base_numbering": 1,
   "nav_menu": {},
   "number_sections": true,
   "sideBar": true,
   "skip_h1_title": false,
   "title_cell": "Table of Contents",
   "title_sidebar": "Contents",
   "toc_cell": false,
   "toc_position": {},
   "toc_section_display": true,
   "toc_window_display": false
  }
 },
 "nbformat": 4,
 "nbformat_minor": 1
}
