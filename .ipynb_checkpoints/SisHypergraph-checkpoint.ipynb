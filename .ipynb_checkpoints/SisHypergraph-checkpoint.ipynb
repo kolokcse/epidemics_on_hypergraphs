{
 "cells": [
  {
   "cell_type": "code",
   "execution_count": 1,
   "metadata": {
    "executionInfo": {
     "elapsed": 211,
     "status": "ok",
     "timestamp": 1638809908476,
     "user": {
      "displayName": "Balázs Csegő Kolok",
      "photoUrl": "https://lh3.googleusercontent.com/a-/AOh14GizElBU6t4C1dp2-BqN6yH3njYpOSYmXC27d2_J=s64",
      "userId": "01455502549978942683"
     },
     "user_tz": -60
    },
    "id": "uWregXcBiClO"
   },
   "outputs": [],
   "source": [
    "pathdir='/content/drive/MyDrive/EpidemicModel/model3'\n",
    "import sys\n",
    "sys.path.append(pathdir)"
   ]
  },
  {
   "cell_type": "code",
   "execution_count": 2,
   "metadata": {
    "colab": {
     "base_uri": "https://localhost:8080/"
    },
    "executionInfo": {
     "elapsed": 12179,
     "status": "ok",
     "timestamp": 1638809920970,
     "user": {
      "displayName": "Balázs Csegő Kolok",
      "photoUrl": "https://lh3.googleusercontent.com/a-/AOh14GizElBU6t4C1dp2-BqN6yH3njYpOSYmXC27d2_J=s64",
      "userId": "01455502549978942683"
     },
     "user_tz": -60
    },
    "id": "FEBkfqJejbO8",
    "outputId": "5d4f3eb8-58cf-4693-a6f1-c1418915d811"
   },
   "outputs": [
    {
     "name": "stdout",
     "output_type": "stream",
     "text": [
      "Requirement already satisfied: hypernetx in /usr/local/lib/python3.7/dist-packages (1.2)\n",
      "Requirement already satisfied: scikit-learn>=0.20.0 in /usr/local/lib/python3.7/dist-packages (from hypernetx) (1.0.1)\n",
      "Requirement already satisfied: networkx<3.0,>=2.2 in /usr/local/lib/python3.7/dist-packages (from hypernetx) (2.6.3)\n",
      "Requirement already satisfied: pandas>=0.23 in /usr/local/lib/python3.7/dist-packages (from hypernetx) (1.1.5)\n",
      "Requirement already satisfied: numpy<2.0,>=1.15.0 in /usr/local/lib/python3.7/dist-packages (from hypernetx) (1.19.5)\n",
      "Requirement already satisfied: scipy<2.0,>=1.1.0 in /usr/local/lib/python3.7/dist-packages (from hypernetx) (1.4.1)\n",
      "Requirement already satisfied: matplotlib>3.0 in /usr/local/lib/python3.7/dist-packages (from hypernetx) (3.2.2)\n",
      "Requirement already satisfied: python-dateutil>=2.1 in /usr/local/lib/python3.7/dist-packages (from matplotlib>3.0->hypernetx) (2.8.2)\n",
      "Requirement already satisfied: cycler>=0.10 in /usr/local/lib/python3.7/dist-packages (from matplotlib>3.0->hypernetx) (0.11.0)\n",
      "Requirement already satisfied: pyparsing!=2.0.4,!=2.1.2,!=2.1.6,>=2.0.1 in /usr/local/lib/python3.7/dist-packages (from matplotlib>3.0->hypernetx) (3.0.6)\n",
      "Requirement already satisfied: kiwisolver>=1.0.1 in /usr/local/lib/python3.7/dist-packages (from matplotlib>3.0->hypernetx) (1.3.2)\n",
      "Requirement already satisfied: pytz>=2017.2 in /usr/local/lib/python3.7/dist-packages (from pandas>=0.23->hypernetx) (2018.9)\n",
      "Requirement already satisfied: six>=1.5 in /usr/local/lib/python3.7/dist-packages (from python-dateutil>=2.1->matplotlib>3.0->hypernetx) (1.15.0)\n",
      "Requirement already satisfied: threadpoolctl>=2.0.0 in /usr/local/lib/python3.7/dist-packages (from scikit-learn>=0.20.0->hypernetx) (3.0.0)\n",
      "Requirement already satisfied: joblib>=0.11 in /usr/local/lib/python3.7/dist-packages (from scikit-learn>=0.20.0->hypernetx) (1.1.0)\n",
      "Requirement already satisfied: powerlaw in /usr/local/lib/python3.7/dist-packages (1.5)\n",
      "Requirement already satisfied: numpy in /usr/local/lib/python3.7/dist-packages (from powerlaw) (1.19.5)\n",
      "Requirement already satisfied: mpmath in /usr/local/lib/python3.7/dist-packages (from powerlaw) (1.2.1)\n",
      "Requirement already satisfied: matplotlib in /usr/local/lib/python3.7/dist-packages (from powerlaw) (3.2.2)\n",
      "Requirement already satisfied: scipy in /usr/local/lib/python3.7/dist-packages (from powerlaw) (1.4.1)\n",
      "Requirement already satisfied: kiwisolver>=1.0.1 in /usr/local/lib/python3.7/dist-packages (from matplotlib->powerlaw) (1.3.2)\n",
      "Requirement already satisfied: pyparsing!=2.0.4,!=2.1.2,!=2.1.6,>=2.0.1 in /usr/local/lib/python3.7/dist-packages (from matplotlib->powerlaw) (3.0.6)\n",
      "Requirement already satisfied: cycler>=0.10 in /usr/local/lib/python3.7/dist-packages (from matplotlib->powerlaw) (0.11.0)\n",
      "Requirement already satisfied: python-dateutil>=2.1 in /usr/local/lib/python3.7/dist-packages (from matplotlib->powerlaw) (2.8.2)\n",
      "Requirement already satisfied: six>=1.5 in /usr/local/lib/python3.7/dist-packages (from python-dateutil>=2.1->matplotlib->powerlaw) (1.15.0)\n",
      "Requirement already satisfied: celluloid in /usr/local/lib/python3.7/dist-packages (0.2.0)\n",
      "Requirement already satisfied: matplotlib in /usr/local/lib/python3.7/dist-packages (from celluloid) (3.2.2)\n",
      "Requirement already satisfied: pyparsing!=2.0.4,!=2.1.2,!=2.1.6,>=2.0.1 in /usr/local/lib/python3.7/dist-packages (from matplotlib->celluloid) (3.0.6)\n",
      "Requirement already satisfied: numpy>=1.11 in /usr/local/lib/python3.7/dist-packages (from matplotlib->celluloid) (1.19.5)\n",
      "Requirement already satisfied: kiwisolver>=1.0.1 in /usr/local/lib/python3.7/dist-packages (from matplotlib->celluloid) (1.3.2)\n",
      "Requirement already satisfied: python-dateutil>=2.1 in /usr/local/lib/python3.7/dist-packages (from matplotlib->celluloid) (2.8.2)\n",
      "Requirement already satisfied: cycler>=0.10 in /usr/local/lib/python3.7/dist-packages (from matplotlib->celluloid) (0.11.0)\n",
      "Requirement already satisfied: six>=1.5 in /usr/local/lib/python3.7/dist-packages (from python-dateutil>=2.1->matplotlib->celluloid) (1.15.0)\n",
      "Requirement already satisfied: igraph in /usr/local/lib/python3.7/dist-packages (0.9.8)\n",
      "Requirement already satisfied: texttable>=1.6.2 in /usr/local/lib/python3.7/dist-packages (from igraph) (1.6.4)\n"
     ]
    }
   ],
   "source": [
    "!pip install hypernetx\n",
    "!pip install powerlaw\n",
    "!pip install celluloid\n",
    "!pip install igraph"
   ]
  },
  {
   "cell_type": "code",
   "execution_count": 13,
   "metadata": {
    "executionInfo": {
     "elapsed": 206,
     "status": "ok",
     "timestamp": 1638810190456,
     "user": {
      "displayName": "Balázs Csegő Kolok",
      "photoUrl": "https://lh3.googleusercontent.com/a-/AOh14GizElBU6t4C1dp2-BqN6yH3njYpOSYmXC27d2_J=s64",
      "userId": "01455502549978942683"
     },
     "user_tz": -60
    },
    "id": "XUbnYpc8iigO"
   },
   "outputs": [],
   "source": [
    "import json\n",
    "from drive.MyDrive.EpidemicModel.model3.epidemicmodel import EpidemicModel\n",
    "from drive.MyDrive.EpidemicModel.model3.epidemicplotter import Eplot\n",
    "from drive.MyDrive.EpidemicModel.model4.hypergraph_generator import get_hypergraph\n",
    "from drive.MyDrive.EpidemicModel.model4.epidemics import discrete_SIS\n",
    "import time\n",
    "import random as rnd\n",
    "import numpy as np\n",
    "import matplotlib.pyplot as plt\n",
    "import matplotlib.lines as mlines\n",
    "import itertools\n",
    "from itertools import combinations \n",
    "import networkx as nx\n",
    "import bisect\n",
    "from collections import defaultdict\n",
    "import hypernetx as hnx"
   ]
  },
  {
   "cell_type": "code",
   "execution_count": 4,
   "metadata": {
    "executionInfo": {
     "elapsed": 187,
     "status": "ok",
     "timestamp": 1638809924583,
     "user": {
      "displayName": "Balázs Csegő Kolok",
      "photoUrl": "https://lh3.googleusercontent.com/a-/AOh14GizElBU6t4C1dp2-BqN6yH3njYpOSYmXC27d2_J=s64",
      "userId": "01455502549978942683"
     },
     "user_tz": -60
    },
    "id": "0srAq5UAimMX"
   },
   "outputs": [],
   "source": [
    "\"------Random host generator for epidemic model----\"\n",
    "def random_hosts(number_of_hosts, infectious_number):\n",
    "    sum_of_infectious = 0\n",
    "    _list=[]    \n",
    "    for i in range(number_of_hosts):\n",
    "        _attr_list = {}\n",
    "        _attr_list['id'] = int(str(10)+str(i))\n",
    "        _edgelist = []\n",
    "        _attr_list['is tested'] = False\n",
    "        _attr_list['quarantine time'] = 0\n",
    "        _attr_list['state'] = 's'\n",
    "        _attr_list['exposed time'] = 0\n",
    "        _attr_list['fresh quarantine'] = False\n",
    "        _list.append([_edgelist,_attr_list])\n",
    "    if 0 <= infectious_number and infectious_number < 1:\n",
    "        s = number_of_hosts * rate_of_infectious\n",
    "    elif 1 <= infectious_number:\n",
    "        s = infectious_number\n",
    "    while sum_of_infectious < s:\n",
    "        random_host = rnd.choice(_list)\n",
    "        random_host[1]['state'] = 'i'\n",
    "        sum_of_infectious += 1\n",
    "    return _list"
   ]
  },
  {
   "cell_type": "code",
   "execution_count": 5,
   "metadata": {
    "executionInfo": {
     "elapsed": 241,
     "status": "ok",
     "timestamp": 1638807867536,
     "user": {
      "displayName": "Balázs Csegő Kolok",
      "photoUrl": "https://lh3.googleusercontent.com/a-/AOh14GizElBU6t4C1dp2-BqN6yH3njYpOSYmXC27d2_J=s64",
      "userId": "01455502549978942683"
     },
     "user_tz": -60
    },
    "id": "JvKJEzpMbxcU"
   },
   "outputs": [],
   "source": [
    "hyperedge_types = {}\n",
    "hyperedge_types['u'] = {'spreading rate' : 0.6, 'distribution': 'uniform','size' : 4}\n",
    "hyperedge_types['w'] = {'spreading rate' : 0.3, 'distribution': 'binom', 'size mean' : 9, 'size variance' : 2.51}\n",
    "exposed_end_time = 0\n",
    "quarantine_length = 10\n",
    "testing_prob = 0\n",
    "model='basic'"
   ]
  },
  {
   "cell_type": "code",
   "execution_count": 6,
   "metadata": {
    "executionInfo": {
     "elapsed": 180,
     "status": "ok",
     "timestamp": 1638807868963,
     "user": {
      "displayName": "Balázs Csegő Kolok",
      "photoUrl": "https://lh3.googleusercontent.com/a-/AOh14GizElBU6t4C1dp2-BqN6yH3njYpOSYmXC27d2_J=s64",
      "userId": "01455502549978942683"
     },
     "user_tz": -60
    },
    "id": "t_hUfIb8cUrc"
   },
   "outputs": [],
   "source": [
    "state_transition_probs = {}\n",
    "state_transition_probs['s'] = {'s': 1}\n",
    "state_transition_probs['e'] = {'i': 1}\n",
    "state_transition_probs['i'] = {'s': 0.3}"
   ]
  },
  {
   "cell_type": "code",
   "execution_count": 7,
   "metadata": {
    "colab": {
     "base_uri": "https://localhost:8080/"
    },
    "executionInfo": {
     "elapsed": 16598,
     "status": "ok",
     "timestamp": 1638807886577,
     "user": {
      "displayName": "Balázs Csegő Kolok",
      "photoUrl": "https://lh3.googleusercontent.com/a-/AOh14GizElBU6t4C1dp2-BqN6yH3njYpOSYmXC27d2_J=s64",
      "userId": "01455502549978942683"
     },
     "user_tz": -60
    },
    "id": "ntxjx5lmb4SZ",
    "outputId": "07b509c7-eba4-4ede-e0d6-e0640649f139"
   },
   "outputs": [
    {
     "name": "stdout",
     "output_type": "stream",
     "text": [
      "16.331678867340088\n"
     ]
    }
   ],
   "source": [
    "_list = random_hosts(1000,1)\n",
    "epidemicmodel = EpidemicModel(_list, state_transition_probs,\n",
    "                              states=['s','e','i'],\n",
    "                              model='basic')\n",
    "for i in range(5):\n",
    "  epidemicmodel.generate_hyperedges(hyperedge_types['u'], 'u')\n",
    "\n",
    "start = time.time()\n",
    "rates, daily_infections, daily_positive_tests, i = epidemicmodel.run(1000)\n",
    "print(time.time() - start)"
   ]
  },
  {
   "cell_type": "code",
   "execution_count": 8,
   "metadata": {
    "colab": {
     "base_uri": "https://localhost:8080/",
     "height": 501
    },
    "executionInfo": {
     "elapsed": 595,
     "status": "ok",
     "timestamp": 1638807890459,
     "user": {
      "displayName": "Balázs Csegő Kolok",
      "photoUrl": "https://lh3.googleusercontent.com/a-/AOh14GizElBU6t4C1dp2-BqN6yH3njYpOSYmXC27d2_J=s64",
      "userId": "01455502549978942683"
     },
     "user_tz": -60
    },
    "id": "3-CARSBPcZs-",
    "outputId": "a420864b-e662-4963-b5ca-ba3d979b6767"
   },
   "outputs": [
    {
     "data": {
      "text/plain": [
       "[<matplotlib.lines.Line2D at 0x7fb7818db090>]"
      ]
     },
     "execution_count": 8,
     "metadata": {},
     "output_type": "execute_result"
    },
    {
     "data": {
      "image/png": "[encoded data removed]",
      "text/plain": [
       "<Figure size 576x576 with 1 Axes>"
      ]
     },
     "metadata": {
      "needs_background": "light"
     },
     "output_type": "display_data"
    }
   ],
   "source": [
    "plt.plot(rates['infectious'], 'r')"
   ]
  },
  {
   "cell_type": "code",
   "execution_count": 9,
   "metadata": {
    "colab": {
     "base_uri": "https://localhost:8080/"
    },
    "executionInfo": {
     "elapsed": 1345,
     "status": "ok",
     "timestamp": 1638807898024,
     "user": {
      "displayName": "Balázs Csegő Kolok",
      "photoUrl": "https://lh3.googleusercontent.com/a-/AOh14GizElBU6t4C1dp2-BqN6yH3njYpOSYmXC27d2_J=s64",
      "userId": "01455502549978942683"
     },
     "user_tz": -60
    },
    "id": "vcUKQPiBc4PB",
    "outputId": "0892ea3f-248c-4245-c1e0-9f1095db7ea7"
   },
   "outputs": [
    {
     "data": {
      "text/plain": [
       "{'id': '0',\n",
       " 'number of infectious': 3,\n",
       " 'spreading rate': 0.6,\n",
       " 'type': 'u',\n",
       " 'weight': 0.15}"
      ]
     },
     "execution_count": 9,
     "metadata": {},
     "output_type": "execute_result"
    }
   ],
   "source": [
    "epidemicmodel.hypergraph.edges[0].attr_list"
   ]
  },
  {
   "cell_type": "code",
   "execution_count": 10,
   "metadata": {
    "executionInfo": {
     "elapsed": 5411,
     "status": "ok",
     "timestamp": 1638807909191,
     "user": {
      "displayName": "Balázs Csegő Kolok",
      "photoUrl": "https://lh3.googleusercontent.com/a-/AOh14GizElBU6t4C1dp2-BqN6yH3njYpOSYmXC27d2_J=s64",
      "userId": "01455502549978942683"
     },
     "user_tz": -60
    },
    "id": "uF91SoBFcm2l"
   },
   "outputs": [],
   "source": [
    "H=epidemicmodel.hypergraph.to_hnx_hypergraph()"
   ]
  },
  {
   "cell_type": "code",
   "execution_count": 15,
   "metadata": {
    "colab": {
     "base_uri": "https://localhost:8080/"
    },
    "executionInfo": {
     "elapsed": 3730,
     "status": "ok",
     "timestamp": 1638808298150,
     "user": {
      "displayName": "Balázs Csegő Kolok",
      "photoUrl": "https://lh3.googleusercontent.com/a-/AOh14GizElBU6t4C1dp2-BqN6yH3njYpOSYmXC27d2_J=s64",
      "userId": "01455502549978942683"
     },
     "user_tz": -60
    },
    "id": "013KenaScxWC",
    "outputId": "fe40f0e8-bb79-4171-8cff-88c626e59315"
   },
   "outputs": [
    {
     "name": "stdout",
     "output_type": "stream",
     "text": [
      "running time: 3.5232105255126953\n"
     ]
    }
   ],
   "source": [
    "edge_types=defaultdict(lambda:'f')\n",
    "dt=1\n",
    "tmax=1000\n",
    "tau={'f':0.6}\n",
    "mu=0.3\n",
    "start = time.time()\n",
    "t1, S1, I1 = discrete_SIS(H,edge_types ,tau, mu, rho=0.1, tmin=0, tmax=tmax, dt=dt)\n",
    "print('running time: ' + str(time.time() - start))"
   ]
  },
  {
   "cell_type": "code",
   "execution_count": 16,
   "metadata": {
    "colab": {
     "base_uri": "https://localhost:8080/",
     "height": 501
    },
    "executionInfo": {
     "elapsed": 565,
     "status": "ok",
     "timestamp": 1638808340264,
     "user": {
      "displayName": "Balázs Csegő Kolok",
      "photoUrl": "https://lh3.googleusercontent.com/a-/AOh14GizElBU6t4C1dp2-BqN6yH3njYpOSYmXC27d2_J=s64",
      "userId": "01455502549978942683"
     },
     "user_tz": -60
    },
    "id": "VMR4Y6wpkKXO",
    "outputId": "790f60f3-f6a3-4f00-9007-5ed51813f166"
   },
   "outputs": [
    {
     "data": {
      "image/png": "[encoded data removed]",
      "text/plain": [
       "<Figure size 576x576 with 1 Axes>"
      ]
     },
     "metadata": {
      "needs_background": "light"
     },
     "output_type": "display_data"
    }
   ],
   "source": [
    "plt.figure()\n",
    "plt.plot(t1, I1, 'r', label='I')\n",
    "plt.xlabel(\"Time\", fontsize=14)\n",
    "plt.ylabel(\"Number of people\", fontsize=14)\n",
    "plt.legend(fontsize=14)\n",
    "plt.show()"
   ]
  },
  {
   "cell_type": "code",
   "execution_count": 17,
   "metadata": {
    "colab": {
     "base_uri": "https://localhost:8080/"
    },
    "executionInfo": {
     "elapsed": 199,
     "status": "ok",
     "timestamp": 1638808393971,
     "user": {
      "displayName": "Balázs Csegő Kolok",
      "photoUrl": "https://lh3.googleusercontent.com/a-/AOh14GizElBU6t4C1dp2-BqN6yH3njYpOSYmXC27d2_J=s64",
      "userId": "01455502549978942683"
     },
     "user_tz": -60
    },
    "id": "cyN00k7XlsPK",
    "outputId": "765ed541-5d13-43a0-df93-a464f236fa22"
   },
   "outputs": [
    {
     "data": {
      "text/plain": [
       "1250"
      ]
     },
     "execution_count": 17,
     "metadata": {},
     "output_type": "execute_result"
    }
   ],
   "source": [
    "len(H.edges)"
   ]
  },
  {
   "cell_type": "code",
   "execution_count": 18,
   "metadata": {
    "colab": {
     "base_uri": "https://localhost:8080/"
    },
    "executionInfo": {
     "elapsed": 208,
     "status": "ok",
     "timestamp": 1638808460912,
     "user": {
      "displayName": "Balázs Csegő Kolok",
      "photoUrl": "https://lh3.googleusercontent.com/a-/AOh14GizElBU6t4C1dp2-BqN6yH3njYpOSYmXC27d2_J=s64",
      "userId": "01455502549978942683"
     },
     "user_tz": -60
    },
    "id": "bPwbgfIAl5W_",
    "outputId": "f845b831-78cf-4693-d928-8d9fae37d3c1"
   },
   "outputs": [
    {
     "data": {
      "text/plain": [
       "1250"
      ]
     },
     "execution_count": 18,
     "metadata": {},
     "output_type": "execute_result"
    }
   ],
   "source": [
    "len(epidemicmodel.hypergraph.edges)"
   ]
  },
  {
   "cell_type": "code",
   "execution_count": 17,
   "metadata": {
    "executionInfo": {
     "elapsed": 5637,
     "status": "ok",
     "timestamp": 1638810243432,
     "user": {
      "displayName": "Balázs Csegő Kolok",
      "photoUrl": "https://lh3.googleusercontent.com/a-/AOh14GizElBU6t4C1dp2-BqN6yH3njYpOSYmXC27d2_J=s64",
      "userId": "01455502549978942683"
     },
     "user_tz": -60
    },
    "id": "70-YxJO9mJx4"
   },
   "outputs": [],
   "source": [
    "H2=get_hypergraph('regular', \n",
    "                 args={'n' : 1000, 'd':5, 'distribution': 'uniform','size' : 4}\n",
    "                 )"
   ]
  },
  {
   "cell_type": "code",
   "execution_count": 18,
   "metadata": {
    "colab": {
     "base_uri": "https://localhost:8080/"
    },
    "executionInfo": {
     "elapsed": 3618,
     "status": "ok",
     "timestamp": 1638810247035,
     "user": {
      "displayName": "Balázs Csegő Kolok",
      "photoUrl": "https://lh3.googleusercontent.com/a-/AOh14GizElBU6t4C1dp2-BqN6yH3njYpOSYmXC27d2_J=s64",
      "userId": "01455502549978942683"
     },
     "user_tz": -60
    },
    "id": "ofVfyD-WpR7O",
    "outputId": "079aa943-5b5c-4186-a86e-753a89813997"
   },
   "outputs": [
    {
     "name": "stdout",
     "output_type": "stream",
     "text": [
      "running time: 3.6453423500061035\n"
     ]
    }
   ],
   "source": [
    "edge_types=defaultdict(lambda:'f')\n",
    "dt=1\n",
    "tmax=1000\n",
    "tau={'f':0.6}\n",
    "mu=0.3\n",
    "start = time.time()\n",
    "t1, S1, I1 = discrete_SIS(H2,edge_types ,tau, mu, rho=0.1, tmin=0, tmax=tmax, dt=dt)\n",
    "print('running time: ' + str(time.time() - start))"
   ]
  },
  {
   "cell_type": "code",
   "execution_count": 19,
   "metadata": {
    "colab": {
     "base_uri": "https://localhost:8080/",
     "height": 501
    },
    "executionInfo": {
     "elapsed": 713,
     "status": "ok",
     "timestamp": 1638810248742,
     "user": {
      "displayName": "Balázs Csegő Kolok",
      "photoUrl": "https://lh3.googleusercontent.com/a-/AOh14GizElBU6t4C1dp2-BqN6yH3njYpOSYmXC27d2_J=s64",
      "userId": "01455502549978942683"
     },
     "user_tz": -60
    },
    "id": "3lv3km5dpZtX",
    "outputId": "3c6b14b7-3b2a-4a43-d467-5ad0068e73ad"
   },
   "outputs": [
    {
     "data": {
      "image/png": "[encoded data removed]",
      "text/plain": [
       "<Figure size 576x576 with 1 Axes>"
      ]
     },
     "metadata": {
      "needs_background": "light"
     },
     "output_type": "display_data"
    }
   ],
   "source": [
    "plt.figure()\n",
    "plt.plot(t1, I1, 'r', label='I')\n",
    "plt.xlabel(\"Time\", fontsize=14)\n",
    "plt.ylabel(\"Number of people\", fontsize=14)\n",
    "plt.legend(fontsize=14)\n",
    "plt.show()"
   ]
  },
  {
   "cell_type": "code",
   "execution_count": null,
   "metadata": {
    "id": "d1gWUthSpcCH"
   },
   "outputs": [],
   "source": [
    ""
   ]
  }
 ],
 "metadata": {
  "colab": {
   "authorship_tag": "ABX9TyPZ0TxeY7Ah8ZlbgCs12Kkj",
   "mount_file_id": "1cH92l7uWZUbIVyU2i11QoKfHX0JZHeod",
   "name": "SisHypergraph.ipynb",
   "provenance": []
  },
  "kernelspec": {
   "display_name": "Python 3",
   "name": "python3"
  },
  "language_info": {
   "name": "python"
  }
 },
 "nbformat": 4,
 "nbformat_minor": 0
}
